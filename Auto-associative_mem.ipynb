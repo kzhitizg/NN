{
 "metadata": {
  "language_info": {
   "codemirror_mode": {
    "name": "ipython",
    "version": 3
   },
   "file_extension": ".py",
   "mimetype": "text/x-python",
   "name": "python",
   "nbconvert_exporter": "python",
   "pygments_lexer": "ipython3",
   "version": "3.8.0-final"
  },
  "orig_nbformat": 2,
  "kernelspec": {
   "name": "Python 3.8.0 64-bit",
   "display_name": "Python 3.8.0 64-bit",
   "metadata": {
    "interpreter": {
     "hash": "8a298693b61c3ef6bd5797ff4e9ec6e70addcdadee3acf16272a421292c70e00"
    }
   }
  }
 },
 "nbformat": 4,
 "nbformat_minor": 2,
 "cells": [
  {
   "source": [
    "# Auto Associative Memory\n",
    "\n",
    "## Kshitiz Gehlot\n",
    "## 2017UIT2614"
   ],
   "cell_type": "markdown",
   "metadata": {}
  },
  {
   "cell_type": "code",
   "execution_count": 1,
   "metadata": {},
   "outputs": [],
   "source": [
    "import numpy as np"
   ]
  },
  {
   "source": [
    "## Activation function"
   ],
   "cell_type": "markdown",
   "metadata": {}
  },
  {
   "cell_type": "code",
   "execution_count": 2,
   "metadata": {},
   "outputs": [],
   "source": [
    "@np.vectorize\n",
    "def AF(x):\n",
    "    return np.where(x>0, 1, -1)"
   ]
  },
  {
   "source": [
    "## Function to train on given inputs"
   ],
   "cell_type": "markdown",
   "metadata": {}
  },
  {
   "cell_type": "code",
   "execution_count": 3,
   "metadata": {},
   "outputs": [],
   "source": [
    "def train(X, W):\n",
    "    W += X.T@X\n",
    "    return W"
   ]
  },
  {
   "source": [
    "## Function to predict"
   ],
   "cell_type": "markdown",
   "metadata": {}
  },
  {
   "cell_type": "code",
   "execution_count": 4,
   "metadata": {},
   "outputs": [],
   "source": [
    "def pred(X, W):\n",
    "    return AF(X@W)"
   ]
  },
  {
   "source": [
    "## Main code"
   ],
   "cell_type": "markdown",
   "metadata": {}
  },
  {
   "cell_type": "code",
   "execution_count": 5,
   "metadata": {},
   "outputs": [],
   "source": [
    "# Initialization\n",
    "X = np.array([-1, 1, 1, 1]).reshape(1, 4)"
   ]
  },
  {
   "cell_type": "code",
   "execution_count": 6,
   "metadata": {},
   "outputs": [],
   "source": [
    "W = np.zeros((4, 4))"
   ]
  },
  {
   "cell_type": "code",
   "execution_count": 7,
   "metadata": {},
   "outputs": [],
   "source": [
    "# Training\n",
    "W = train(X, W)"
   ]
  },
  {
   "cell_type": "code",
   "execution_count": 8,
   "metadata": {},
   "outputs": [
    {
     "output_type": "stream",
     "name": "stdout",
     "text": [
      "Output with original inputs- [[-1  1  1  1]]\n"
     ]
    }
   ],
   "source": [
    "#Predicting\n",
    "print(f\"Output with original inputs- {pred(X, W)}\")"
   ]
  },
  {
   "cell_type": "code",
   "execution_count": 9,
   "metadata": {},
   "outputs": [],
   "source": [
    "# Taking missing and mistaken entry\n",
    "X1 = np.array(X)\n",
    "X1[0, 1] = 0\n",
    "X2 = np.array(X)\n",
    "X1[0, 2] *= -1"
   ]
  },
  {
   "cell_type": "code",
   "execution_count": 10,
   "metadata": {},
   "outputs": [
    {
     "output_type": "stream",
     "name": "stdout",
     "text": [
      "Output with 1 missing entry- [[-1  1  1  1]]\nOutput with 1 mistaken entry- [[-1  1  1  1]]\n"
     ]
    }
   ],
   "source": [
    "print(f\"Output with 1 missing entry- {pred(X1, W)}\")\n",
    "print(f\"Output with 1 mistaken entry- {pred(X2, W)}\")"
   ]
  },
  {
   "cell_type": "code",
   "execution_count": null,
   "metadata": {},
   "outputs": [],
   "source": []
  }
 ]
}