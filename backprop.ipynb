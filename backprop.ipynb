{
 "metadata": {
  "language_info": {
   "codemirror_mode": {
    "name": "ipython",
    "version": 3
   },
   "file_extension": ".py",
   "mimetype": "text/x-python",
   "name": "python",
   "nbconvert_exporter": "python",
   "pygments_lexer": "ipython3",
   "version": "3.8.0-final"
  },
  "orig_nbformat": 2,
  "kernelspec": {
   "name": "Python 3.8.0 64-bit",
   "display_name": "Python 3.8.0 64-bit",
   "metadata": {
    "interpreter": {
     "hash": "8a298693b61c3ef6bd5797ff4e9ec6e70addcdadee3acf16272a421292c70e00"
    }
   }
  }
 },
 "nbformat": 4,
 "nbformat_minor": 2,
 "cells": [
  {
   "source": [
    "# Neural Networks\n",
    "## Backpropagation Algorithm\n",
    "\n",
    "#### Kshitiz Gehlot\n",
    "#### 2017UIT2614"
   ],
   "cell_type": "markdown",
   "metadata": {}
  },
  {
   "source": [
    "## Notations\n",
    "* N = Batch Size \n",
    "* X = Inputs units\n",
    "* M = Hidden units\n",
    "* Y = Output Units"
   ],
   "cell_type": "markdown",
   "metadata": {}
  },
  {
   "source": [
    "### Import Libraries"
   ],
   "cell_type": "markdown",
   "metadata": {}
  },
  {
   "cell_type": "code",
   "execution_count": 2,
   "metadata": {},
   "outputs": [],
   "source": [
    "import numpy as np"
   ]
  },
  {
   "source": [
    "### Activation Functions"
   ],
   "cell_type": "markdown",
   "metadata": {}
  },
  {
   "cell_type": "code",
   "execution_count": 3,
   "metadata": {},
   "outputs": [],
   "source": [
    "@np.vectorize\n",
    "def sigmoid(x):\n",
    "    \"\"\"\n",
    "    Take numpy array and return elementwise sigmoid, with same shape\n",
    "    \"\"\"\n",
    "    return 1/(1+np.exp(-x))\n"
   ]
  },
  {
   "cell_type": "code",
   "execution_count": 7,
   "metadata": {},
   "outputs": [],
   "source": [
    "@np.vectorize\n",
    "def inv_sigmoid(x):\n",
    "    \"\"\"\n",
    "    Take numpy array and return elementwise inverse sigmoid, with same shape\n",
    "    \"\"\"\n",
    "    return np.log(x/(1-x))"
   ]
  },
  {
   "cell_type": "code",
   "execution_count": 8,
   "metadata": {},
   "outputs": [
    {
     "output_type": "execute_result",
     "data": {
      "text/plain": [
       "array([0.88079708, 0.62245933, 0.5       , 0.26894142])"
      ]
     },
     "metadata": {},
     "execution_count": 8
    }
   ],
   "source": [
    "sigmoid(np.array([2, 0.5, 0, -1]))"
   ]
  },
  {
   "cell_type": "code",
   "execution_count": 9,
   "metadata": {},
   "outputs": [
    {
     "output_type": "execute_result",
     "data": {
      "text/plain": [
       "array([ 2.00000002,  0.49999999,  0.        , -1.00000001])"
      ]
     },
     "metadata": {},
     "execution_count": 9
    }
   ],
   "source": [
    "inv_sigmoid(np.array([0.88079708, 0.62245933, 0.5       , 0.26894142]))"
   ]
  },
  {
   "source": [
    "### Forward Propagation"
   ],
   "cell_type": "markdown",
   "metadata": {}
  },
  {
   "cell_type": "code",
   "execution_count": 17,
   "metadata": {},
   "outputs": [],
   "source": [
    "def forward_prop(X_in, W):\n",
    "    \"\"\"\n",
    "    X_in = (N, prev_layer)\n",
    "    W = (prev_layer, next_layer)\n",
    "\n",
    "    Returns Y_in (used in backprop) and Y, shapes = (N, next_layer)\n",
    "    \"\"\"\n",
    "    Y_in = np.matmul(X_in, W)\n",
    "    Y = sigmoid(Y_in)\n",
    "    return Y_in, Y"
   ]
  },
  {
   "source": [
    "### Back Propagation"
   ],
   "cell_type": "markdown",
   "metadata": {}
  },
  {
   "cell_type": "code",
   "execution_count": 12,
   "metadata": {},
   "outputs": [],
   "source": [
    "def back_prop(delta_in, W, Y_in, X_in, alpha):\n",
    "    \"\"\"\n",
    "    delta_in = (N, next_layer)\n",
    "    Y_in = (N, next_layer)\n",
    "    X_in = (N, prev_layer)\n",
    "    W = (prev_layer, next_layer)\n",
    "    alpha = float\n",
    "\n",
    "    Returns delta_W (prev_layer, next_layer), and delta_in_prev (for prev layer) (N, prev_layer)\n",
    "    \"\"\"\n",
    "    delta = delta_in.T*inv_sigmoid(Y_in)\n",
    "    delta_W = alpha*np.matmul(X_in.T, delta)\n",
    "\n",
    "    delta_in_prev = delta*np.matmul(delta, W.T)\n",
    "\n",
    "    return delta_W, delta_in_prev"
   ]
  },
  {
   "source": [
    "### Running the algorithm\n"
   ],
   "cell_type": "markdown",
   "metadata": {}
  },
  {
   "cell_type": "code",
   "execution_count": null,
   "metadata": {},
   "outputs": [],
   "source": []
  },
  {
   "cell_type": "code",
   "execution_count": null,
   "metadata": {},
   "outputs": [],
   "source": [
    "for i in range(100):\n",
    "    # Forward Prop\n",
    "    Z, Zin = forward_prop(X, v)\n",
    "    Y, Yin = forward_prop(Z, w)\n",
    "\n",
    "    #Error\n",
    "    delta = T - Y\n",
    "\n",
    "    #Backprop\n",
    "    delta_v, delta_inj = back_prop()\n"
   ]
  }
 ]
}